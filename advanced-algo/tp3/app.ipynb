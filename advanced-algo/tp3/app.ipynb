{
 "cells": [
  {
   "cell_type": "code",
   "execution_count": 310,
   "metadata": {
    "tags": []
   },
   "outputs": [
    {
     "output_type": "stream",
     "name": "stdout",
     "text": "A has 1 occurences\n4 has 2 occurences\n1 has 1 occurences\nb has 1 occurences\nNone has 2 occurences\n"
    }
   ],
   "source": [
    "# Occurences exo\n",
    "theList = ['A', 4, 1, 4, 'b', None, None]\n",
    "\n",
    "occurences = {}\n",
    "\n",
    "for el1 in theList:\n",
    "    occurences[str(el1)] = 0\n",
    "    for el2 in theList:\n",
    "        if el1 == el2:\n",
    "            occurences[str(el1)] += 1\n",
    "\n",
    "for key, value in occurences.items():\n",
    "    print('%s has %s occurences' % (key, value))\n"
   ]
  },
  {
   "cell_type": "code",
   "execution_count": 311,
   "metadata": {
    "tags": []
   },
   "outputs": [
    {
     "output_type": "stream",
     "name": "stdout",
     "text": "1211\n===\n121121\n1211221111\n"
    }
   ],
   "source": [
    "# Conway exo\n",
    "def nextConway(num):\n",
    "    res = ''\n",
    "    val = str(num)[0]\n",
    "    length = 0\n",
    "\n",
    "    for n in str(num):  \n",
    "        if val == n:\n",
    "            length += 1\n",
    "        else:\n",
    "            res += '%s%s' % (length, n)\n",
    "            length = 1\n",
    "            val = n\n",
    "\n",
    "    res += '%s%s' % (length, val)\n",
    "    \n",
    "    return res\n",
    "\n",
    "def conway(n, terms):\n",
    "    print(n)\n",
    "    print(\"===\")\n",
    "    for it in range(1, terms):\n",
    "        n = nextConway(n)\n",
    "        print(n)\n",
    "\n",
    "conway(1211, 3)\n"
   ]
  },
  {
   "cell_type": "code",
   "execution_count": null,
   "metadata": {},
   "outputs": [],
   "source": []
  }
 ],
 "metadata": {
  "language_info": {
   "codemirror_mode": {
    "name": "ipython",
    "version": 3
   },
   "file_extension": ".py",
   "mimetype": "text/x-python",
   "name": "python",
   "nbconvert_exporter": "python",
   "pygments_lexer": "ipython3",
   "version": 3
  },
  "orig_nbformat": 2,
  "kernelspec": {
   "name": "python_defaultSpec_1609930197019",
   "display_name": "Python 3.7.8 64-bit ('op-research': conda)"
  }
 },
 "nbformat": 4,
 "nbformat_minor": 2
}