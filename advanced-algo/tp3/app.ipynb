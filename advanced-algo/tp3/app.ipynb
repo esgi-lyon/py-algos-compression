{
 "cells": [
  {
   "cell_type": "code",
   "execution_count": 3,
   "metadata": {
    "tags": []
   },
   "outputs": [
    {
     "output_type": "stream",
     "name": "stdout",
     "text": "A has 1 occurences\n4 has 2 occurences\n1 has 1 occurences\nb has 1 occurences\nNone has 2 occurences\n"
    }
   ],
   "source": [
    "# Occurences exo\n",
    "theList = ['A', 4, 1, 4, 'b', None, None]\n",
    "\n",
    "occurences = {}\n",
    "\n",
    "for el1 in theList:\n",
    "    if str(el1) in occurences:\n",
    "        occurences[str(el1)] += 1\n",
    "        continue\n",
    "    occurences[str(el1)] = 1\n",
    "\n",
    "for key, value in occurences.items():\n",
    "    print('%s has %s occurences' % (key, value))\n"
   ]
  },
  {
   "cell_type": "code",
   "execution_count": 4,
   "metadata": {
    "tags": []
   },
   "outputs": [
    {
     "output_type": "stream",
     "name": "stdout",
     "text": "1\n11\n21\n1211\n111221\n312211\n13112221\n1113213211\n"
    }
   ],
   "source": [
    "# Conway exo\n",
    "def nextTerm(num):\n",
    "    res = ''\n",
    "    val = str(num)[0]\n",
    "    length = 0\n",
    "\n",
    "    for n in str(num):  \n",
    "        if val == n:\n",
    "            length += 1\n",
    "        else:\n",
    "            res += '%s%s' % (length, val)\n",
    "            length = 1\n",
    "            val = n\n",
    "\n",
    "    res += '%s%s' % (length, val)\n",
    "\n",
    "    return res\n",
    "\n",
    "def conway(n, terms):\n",
    "    print(n)\n",
    "    for it in range(terms):\n",
    "        n = nextTerm(n)\n",
    "        print(n)\n",
    "\n",
    "conway(1, 7)\n"
   ]
  }
 ],
 "metadata": {
  "language_info": {
   "codemirror_mode": {
    "name": "ipython",
    "version": 3
   },
   "file_extension": ".py",
   "mimetype": "text/x-python",
   "name": "python",
   "nbconvert_exporter": "python",
   "pygments_lexer": "ipython3",
   "version": 3
  },
  "orig_nbformat": 2,
  "kernelspec": {
   "name": "python_defaultSpec_1612164154999",
   "display_name": "Python 3.7.8 64-bit ('op-research': conda)"
  }
 },
 "nbformat": 4,
 "nbformat_minor": 2
}