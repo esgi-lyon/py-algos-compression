{
 "cells": [
  {
   "cell_type": "code",
   "execution_count": 32,
   "metadata": {
    "tags": []
   },
   "outputs": [
    {
     "output_type": "stream",
     "name": "stdout",
     "text": "1 Avril\n12 Avril\n27 Mars\n31 Mars\n"
    }
   ],
   "source": [
    "# Ex 4\n",
    "def date_pacques(m):\n",
    "    n = m - 1900\n",
    "    a = n % 19\n",
    "    b = ( (7 * a) + 1) // 19\n",
    "    c = ( (11 * a) - b + 4) % 29\n",
    "    d = n // 4\n",
    "    e = (n - c + d + 31) % 7\n",
    "    f = (25-c-e)\n",
    "\n",
    "    return str(f) + \" Avril\" if f > 0 else str(31 + f) + \" Mars\"\n",
    "\n",
    "print(date_pacques(1945))\n",
    "print(date_pacques(2020))\n",
    "print(date_pacques(2005))\n",
    "print(date_pacques(2013))\n"
   ]
  },
  {
   "cell_type": "code",
   "execution_count": null,
   "metadata": {},
   "outputs": [],
   "source": []
  },
  {
   "cell_type": "code",
   "execution_count": null,
   "metadata": {},
   "outputs": [],
   "source": []
  }
 ],
 "metadata": {
  "language_info": {
   "codemirror_mode": {
    "name": "ipython",
    "version": 3
   },
   "file_extension": ".py",
   "mimetype": "text/x-python",
   "name": "python",
   "nbconvert_exporter": "python",
   "pygments_lexer": "ipython3",
   "version": "3.7.8-final"
  },
  "orig_nbformat": 2,
  "kernelspec": {
   "name": "python3",
   "display_name": "Python 3"
  }
 },
 "nbformat": 4,
 "nbformat_minor": 2
}