{
 "cells": [
  {
   "cell_type": "code",
   "execution_count": 101,
   "metadata": {
    "tags": []
   },
   "outputs": [
    {
     "output_type": "execute_result",
     "data": {
      "text/plain": "12.0"
     },
     "metadata": {},
     "execution_count": 101
    }
   ],
   "source": [
    "# Exo 1\n",
    "def calc_ttc(ht, tva_percent, nb_articles):\n",
    "    return ht + (ht * (tva_percent / 100))\n",
    "\n",
    "calc_ttc(10, 20, 16)\n",
    "    "
   ]
  },
  {
   "cell_type": "code",
   "execution_count": 7,
   "metadata": {
    "tags": []
   },
   "outputs": [
    {
     "output_type": "stream",
     "name": "stdout",
     "text": "[9, 10, 11]\n"
    }
   ],
   "source": [
    "# Exo 2 : Sort 3 numbers\n",
    "def sort_nb(a, b, c):\n",
    "    arr = [a, b, c]\n",
    "    res = []\n",
    "    # On loop un tableau qui sera la valeur comparé\n",
    "    for d1 in arr:\n",
    "        # On loop une deuxième fois pour comparer la valeur avec chacune\n",
    "        for v in arr:\n",
    "            if v == d1:\n",
    "                continue\n",
    "            classed = None\n",
    "\n",
    "            if v >= d1:\n",
    "                classed = v\n",
    "            arr.remove(classed) # On évite de reparcourir une valeur déjà trié\n",
    "            res.insert(0, classed) # On ajoute au début du tableau\n",
    "    res.insert(0, arr[0]) # On met le reste au début\n",
    "    return res\n",
    "    \n",
    "print(sort_nb(10, 11, 9))\n"
   ]
  },
  {
   "cell_type": "code",
   "execution_count": 2,
   "metadata": {
    "tags": []
   },
   "outputs": [
    {
     "output_type": "stream",
     "name": "stdout",
     "text": "34\n"
    }
   ],
   "source": [
    "# Ex 3\n",
    "\n",
    "def fibo(n):\n",
    "    res = [0, 1]\n",
    "\n",
    "    if(n > 2):\n",
    "        for i in range(n - 1):\n",
    "            res.append(res[-1] + res[-2])\n",
    "        print(res[-1])\n",
    "    else:\n",
    "        print(res[n-1])\n",
    "\n",
    "fibo(9)\n"
   ]
  }
 ],
 "metadata": {
  "language_info": {
   "codemirror_mode": {
    "name": "ipython",
    "version": 3
   },
   "file_extension": ".py",
   "mimetype": "text/x-python",
   "name": "python",
   "nbconvert_exporter": "python",
   "pygments_lexer": "ipython3",
   "version": "3.7.8-final"
  },
  "orig_nbformat": 2,
  "kernelspec": {
   "name": "python3",
   "display_name": "Python 3"
  }
 },
 "nbformat": 4,
 "nbformat_minor": 2
}