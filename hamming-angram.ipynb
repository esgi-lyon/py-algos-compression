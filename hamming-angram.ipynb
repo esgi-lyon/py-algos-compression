{
 "cells": [
  {
   "cell_type": "code",
   "execution_count": 1,
   "metadata": {},
   "outputs": [],
   "source": [
    "def Hamming(a, b):\n",
    "    if type(a) != str or type(b) != str:\n",
    "        raise Exception('Need string')\n",
    "\n",
    "    if len(a) != len(b):\n",
    "        raise Exception(\"String length differ\")\n",
    "\n",
    "    distance = 0\n",
    "    for i in range(0, len(a)):\n",
    "        if a[i] != b[i]:\n",
    "            distance += 1\n",
    "\n",
    "    return distance\n"
   ]
  },
  {
   "cell_type": "code",
   "execution_count": 2,
   "metadata": {
    "tags": []
   },
   "outputs": [
    {
     "output_type": "stream",
     "name": "stdout",
     "text": "2\n1\n"
    }
   ],
   "source": [
    "print(Hamming(\"400\", \"340\"))\n",
    "print(Hamming(\"444\", \"244\"))"
   ]
  },
  {
   "cell_type": "code",
   "execution_count": 3,
   "metadata": {},
   "outputs": [],
   "source": [
    "# Anagram\n",
    "def isSame(str1, str2):\n",
    "    for i in list(bytes(str1.lower().encode('utf8'))):\n",
    "        if i not in list(bytes(str2.lower().encode('utf8'))):\n",
    "            return False\n",
    "    for i in list(bytes(str1.lower().encode('utf8'))):\n",
    "        if i not in list(bytes(str2.lower().encode('utf8'))):\n",
    "            return False\n",
    "    return True\n"
   ]
  },
  {
   "cell_type": "code",
   "execution_count": 4,
   "metadata": {},
   "outputs": [],
   "source": [
    "def anagram(a, b):\n",
    "    if type(a) != str or type(b) != str:\n",
    "        raise Exception('Need string')\n",
    "\n",
    "    if len(a) != len(b):\n",
    "        raise Exception(\"String length differ\")\n",
    "\n",
    "    return isSame(a, b)\n"
   ]
  },
  {
   "cell_type": "code",
   "execution_count": 5,
   "metadata": {
    "tags": []
   },
   "outputs": [
    {
     "output_type": "stream",
     "name": "stdout",
     "text": "False\nTrue\n"
    }
   ],
   "source": [
    "print(anagram('Logan', 'Ligon'))\n",
    "print(anagram('Logan', 'Lagon'))"
   ]
  }
 ],
 "metadata": {
  "language_info": {
   "codemirror_mode": {
    "name": "ipython",
    "version": 3
   },
   "file_extension": ".py",
   "mimetype": "text/x-python",
   "name": "python",
   "nbconvert_exporter": "python",
   "pygments_lexer": "ipython3",
   "version": "3.7.8-final"
  },
  "orig_nbformat": 2,
  "kernelspec": {
   "name": "python3",
   "display_name": "Python 3"
  }
 },
 "nbformat": 4,
 "nbformat_minor": 2
}