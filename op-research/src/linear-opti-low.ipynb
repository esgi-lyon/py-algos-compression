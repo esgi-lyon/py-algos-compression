{
 "cells": [
  {
   "cell_type": "code",
   "execution_count": 4,
   "metadata": {},
   "outputs": [],
   "source": [
    "# Credit Nicolas Mauger, 11/12/16 release under WTFPL License\n",
    "# Cf https://www.coin-or.org/PuLP/index.html\n",
    "# ==========\n",
    "# On reprendra ici l'exemple 1 : Z(x,y) = 2 x1 + 4 x2\n",
    "# x1 >= 0; x2 >= 0\n",
    "# x1 + 3 x2 <= 18\n",
    "# x1 <= x2 <= 8\n",
    "# 2 x1 + x2 <= 14\n",
    "# ===========\n",
    "# la ligne suivante importe la bibliotheque pulp\n",
    "import pulp\n",
    "exemple = pulp.LpProblem(u\"exemple 1\", pulp.LpMaximize)"
   ]
  },
  {
   "cell_type": "code",
   "execution_count": 5,
   "metadata": {
    "tags": []
   },
   "outputs": [
    {
     "output_type": "stream",
     "name": "stdout",
     "text": "exemple_1:\nMAXIMIZE\n2*x1 + 4*x2 + 0\nSUBJECT TO\ncontrainte_b: x1 + 3 x2 <= 18\n\ncontrainte_c: x1 + x2 <= 8\n\ncontrainte_d: x1 + x2 <= 4\n\nVARIABLES\nx1 Continuous\nx2 Continuous\n\n"
    }
   ],
   "source": [
    "x1 = pulp.LpVariable(\"x1\", 0)\n",
    "x2 = pulp.LpVariable(\"x2\", 0)\n",
    "\n",
    "# Voici la fonction a maximiser\n",
    "exemple += 2*x1 + 4*x2\n",
    "exemple.objective.setName('Z')\n",
    "\n",
    "# et voila les contraintes\n",
    "exemple += x1 + 3*x2  <=  18, u\"contrainte b\"\n",
    "exemple += x1 + x2    <=  8, u\"contrainte c\"\n",
    "exemple += 1*x1 + x2  <=  4, u\"contrainte d\"\n",
    "\n",
    "print(exemple)"
   ]
  },
  {
   "cell_type": "code",
   "execution_count": 6,
   "metadata": {
    "tags": []
   },
   "outputs": [
    {
     "output_type": "stream",
     "name": "stdout",
     "text": "Optimal  :  Maximize\n  z <- 16.0\n x1 <- 0.0\n x2 <- 4.0\n"
    }
   ],
   "source": [
    "exemple.solve()\n",
    "exemple.objective.setName(\"z\")\n",
    "# bug : sans cette commande exemple.objective.name vaut 'OBJ' et non 'z'...\n",
    "print(pulp.LpStatus[exemple.status], \" : \" , pulp.LpSenses[exemple.sense])\n",
    "print(\"%3s <- %s\"%(exemple.objective.name, pulp.value(exemple.objective)))\n",
    "for var in exemple.variables() :\n",
    "    print(\"%3s <- %s\"%(var,pulp.value(var)))"
   ]
  }
 ],
 "metadata": {
  "language_info": {
   "codemirror_mode": {
    "name": "ipython",
    "version": 3
   },
   "file_extension": ".py",
   "mimetype": "text/x-python",
   "name": "python",
   "nbconvert_exporter": "python",
   "pygments_lexer": "ipython3",
   "version": "3.7.8-final"
  },
  "orig_nbformat": 2,
  "kernelspec": {
   "name": "python3",
   "display_name": "Python 3"
  }
 },
 "nbformat": 4,
 "nbformat_minor": 2
}