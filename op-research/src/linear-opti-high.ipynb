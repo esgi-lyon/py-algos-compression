{
 "cells": [
  {
   "cell_type": "code",
   "execution_count": 1,
   "metadata": {},
   "outputs": [],
   "source": [
    "# import pulp\n",
    "from pulp import *\n",
    "import pandas as pd\n",
    "import numpy as np\n",
    "# import sklearn\n",
    "# from sklearn import *"
   ]
  },
  {
   "cell_type": "markdown",
   "metadata": {},
   "source": [
    "# Data Definitions"
   ]
  },
  {
   "cell_type": "code",
   "execution_count": 2,
   "metadata": {},
   "outputs": [],
   "source": [
    "n_warehouses = 2\n",
    "n_customers = 4\n",
    "cost_matrix = np.array([[1,3,0.5,4],[2.5,5,1.5,2.5]])"
   ]
  },
  {
   "cell_type": "code",
   "execution_count": 3,
   "metadata": {},
   "outputs": [],
   "source": [
    "cust_demands = np.array([35000, 22000, 18000, 30000])"
   ]
  },
  {
   "cell_type": "code",
   "execution_count": 4,
   "metadata": {},
   "outputs": [],
   "source": [
    "warehouse_supply = np.array([60000, 80000])"
   ]
  },
  {
   "cell_type": "markdown",
   "metadata": {},
   "source": [
    "# Model Initialization"
   ]
  },
  {
   "cell_type": "code",
   "execution_count": 5,
   "metadata": {},
   "outputs": [],
   "source": [
    "model = LpProblem(\"Supply-Demand-Problem\", LpMinimize)"
   ]
  },
  {
   "cell_type": "markdown",
   "metadata": {},
   "source": [
    "## Variable Names define"
   ]
  },
  {
   "cell_type": "code",
   "execution_count": 6,
   "metadata": {},
   "outputs": [],
   "source": [
    "variable_names = [str(i)+str(j) for j in range(1, n_customers+1) for i in range(1,n_warehouses+1)]"
   ]
  },
  {
   "cell_type": "code",
   "execution_count": 7,
   "metadata": {},
   "outputs": [],
   "source": [
    "variable_names.sort()"
   ]
  },
  {
   "cell_type": "code",
   "execution_count": 8,
   "metadata": {},
   "outputs": [
    {
     "output_type": "execute_result",
     "data": {
      "text/plain": "['11', '12', '13', '14', '21', '22', '23', '24']"
     },
     "metadata": {},
     "execution_count": 8
    }
   ],
   "source": [
    "variable_names"
   ]
  },
  {
   "cell_type": "markdown",
   "metadata": {},
   "source": [
    "# Decision Variables"
   ]
  },
  {
   "cell_type": "code",
   "execution_count": 9,
   "metadata": {},
   "outputs": [],
   "source": [
    "DV_variables = LpVariable.matrix(\"X\", variable_names , cat = \"Integer\" , lowBound= 0 )"
   ]
  },
  {
   "cell_type": "code",
   "execution_count": 10,
   "metadata": {},
   "outputs": [],
   "source": [
    "allocation = np.array(DV_variables).reshape(2,4)"
   ]
  },
  {
   "cell_type": "code",
   "execution_count": 11,
   "metadata": {},
   "outputs": [
    {
     "output_type": "execute_result",
     "data": {
      "text/plain": "array([[X_11, X_12, X_13, X_14],\n       [X_21, X_22, X_23, X_24]], dtype=object)"
     },
     "metadata": {},
     "execution_count": 11
    }
   ],
   "source": [
    "allocation"
   ]
  },
  {
   "cell_type": "markdown",
   "metadata": {},
   "source": [
    "# Objective Function"
   ]
  },
  {
   "cell_type": "code",
   "execution_count": 12,
   "metadata": {},
   "outputs": [
    {
     "output_type": "execute_result",
     "data": {
      "text/plain": "1.0*X_11 + 3.0*X_12 + 0.5*X_13 + 4.0*X_14 + 2.5*X_21 + 5.0*X_22 + 1.5*X_23 + 2.5*X_24 + 0.0"
     },
     "metadata": {},
     "execution_count": 12
    }
   ],
   "source": [
    "lpSum(allocation*cost_matrix)"
   ]
  },
  {
   "cell_type": "code",
   "execution_count": 13,
   "metadata": {},
   "outputs": [],
   "source": [
    "obj_func = lpSum(allocation*cost_matrix)"
   ]
  },
  {
   "cell_type": "code",
   "execution_count": 14,
   "metadata": {},
   "outputs": [],
   "source": [
    "# Objective Function \n",
    "model += obj_func"
   ]
  },
  {
   "cell_type": "code",
   "execution_count": 15,
   "metadata": {},
   "outputs": [
    {
     "output_type": "execute_result",
     "data": {
      "text/plain": "Supply-Demand-Problem:\nMINIMIZE\n1.0*X_11 + 3.0*X_12 + 0.5*X_13 + 4.0*X_14 + 2.5*X_21 + 5.0*X_22 + 1.5*X_23 + 2.5*X_24 + 0.0\nVARIABLES\n0 <= X_11 Integer\n0 <= X_12 Integer\n0 <= X_13 Integer\n0 <= X_14 Integer\n0 <= X_21 Integer\n0 <= X_22 Integer\n0 <= X_23 Integer\n0 <= X_24 Integer"
     },
     "metadata": {},
     "execution_count": 15
    }
   ],
   "source": [
    "model"
   ]
  },
  {
   "cell_type": "markdown",
   "metadata": {},
   "source": [
    "# Constraints"
   ]
  },
  {
   "cell_type": "code",
   "execution_count": 16,
   "metadata": {
    "scrolled": true,
    "tags": []
   },
   "outputs": [
    {
     "output_type": "stream",
     "name": "stdout",
     "text": "X_11 + X_12 + X_13 + X_14 <= 60000\nX_21 + X_22 + X_23 + X_24 <= 80000\n"
    }
   ],
   "source": [
    "# Warehouse Constraints\n",
    "for i in range(n_warehouses):\n",
    "    print(lpSum(allocation[i][j] for j in range(n_customers)) <= warehouse_supply[i])\n",
    "    model += lpSum(allocation[i][j] for j in range(n_customers)) <= warehouse_supply[i] , \"Supply Constraints \" + str(i)"
   ]
  },
  {
   "cell_type": "code",
   "execution_count": 17,
   "metadata": {
    "tags": []
   },
   "outputs": [
    {
     "output_type": "stream",
     "name": "stdout",
     "text": "X_11 + X_21 >= 35000\nX_12 + X_22 >= 22000\nX_13 + X_23 >= 18000\nX_14 + X_24 >= 30000\n"
    }
   ],
   "source": [
    "# Customer Constraints\n",
    "for j in range(n_customers):\n",
    "    print(lpSum(allocation[i][j] for i in range(n_warehouses)) >= cust_demands[j])\n",
    "    model += lpSum(allocation[i][j] for i in range(n_warehouses)) >= cust_demands[j] , \"Demand Constraints \" + str(j)"
   ]
  },
  {
   "cell_type": "code",
   "execution_count": 18,
   "metadata": {},
   "outputs": [
    {
     "output_type": "execute_result",
     "data": {
      "text/plain": "Supply-Demand-Problem:\nMINIMIZE\n1.0*X_11 + 3.0*X_12 + 0.5*X_13 + 4.0*X_14 + 2.5*X_21 + 5.0*X_22 + 1.5*X_23 + 2.5*X_24 + 0.0\nSUBJECT TO\nSupply_Constraints_0: X_11 + X_12 + X_13 + X_14 <= 60000\n\nSupply_Constraints_1: X_21 + X_22 + X_23 + X_24 <= 80000\n\nDemand_Constraints_0: X_11 + X_21 >= 35000\n\nDemand_Constraints_1: X_12 + X_22 >= 22000\n\nDemand_Constraints_2: X_13 + X_23 >= 18000\n\nDemand_Constraints_3: X_14 + X_24 >= 30000\n\nVARIABLES\n0 <= X_11 Integer\n0 <= X_12 Integer\n0 <= X_13 Integer\n0 <= X_14 Integer\n0 <= X_21 Integer\n0 <= X_22 Integer\n0 <= X_23 Integer\n0 <= X_24 Integer"
     },
     "metadata": {},
     "execution_count": 18
    }
   ],
   "source": [
    "model"
   ]
  },
  {
   "cell_type": "code",
   "execution_count": 24,
   "metadata": {},
   "outputs": [],
   "source": [
    "# Save problem - Write it"
   ]
  },
  {
   "cell_type": "code",
   "execution_count": 19,
   "metadata": {},
   "outputs": [
    {
     "output_type": "execute_result",
     "data": {
      "text/plain": "[X_11, X_12, X_13, X_14, X_21, X_22, X_23, X_24]"
     },
     "metadata": {},
     "execution_count": 19
    }
   ],
   "source": [
    "model.writeLP(\"Supply_demand_prob.lp\")"
   ]
  },
  {
   "cell_type": "markdown",
   "metadata": {},
   "source": [
    "# Solve Problem and check Status"
   ]
  },
  {
   "cell_type": "code",
   "execution_count": 20,
   "metadata": {
    "tags": []
   },
   "outputs": [
    {
     "output_type": "stream",
     "name": "stdout",
     "text": "Optimal\n"
    }
   ],
   "source": [
    "model.solve()\n",
    "# solvers.PULP_CBC_CMD(fracGap=0)\n",
    "status =  LpStatus[model.status]\n",
    "print(status)"
   ]
  },
  {
   "cell_type": "markdown",
   "metadata": {},
   "source": [
    "# Objective Function values and Decision Variable Values\n"
   ]
  },
  {
   "cell_type": "code",
   "execution_count": 21,
   "metadata": {
    "tags": []
   },
   "outputs": [
    {
     "output_type": "stream",
     "name": "stdout",
     "text": "Total Cost: 200000.0\nX_11 = 35000.0\nX_12 = 22000.0\nX_13 = 3000.0\nX_14 = 0.0\nX_21 = 0.0\nX_22 = 0.0\nX_23 = 15000.0\nX_24 = 30000.0\n"
    }
   ],
   "source": [
    "print(\"Total Cost:\", model.objective.value())\n",
    "# Decision Variables\n",
    "\n",
    "for v in model.variables():\n",
    "    try:\n",
    "        print(v.name,\"=\", v.value())\n",
    "    except:\n",
    "        print(\"error couldnt find value\")"
   ]
  },
  {
   "cell_type": "markdown",
   "metadata": {},
   "source": [
    "# Further Analysis"
   ]
  },
  {
   "cell_type": "code",
   "execution_count": 22,
   "metadata": {
    "tags": []
   },
   "outputs": [
    {
     "output_type": "stream",
     "name": "stdout",
     "text": "Warehouse  1\n60000.0\nWarehouse  2\n45000.0\n"
    }
   ],
   "source": [
    "# Warehouse 1 and Warehouse 2 required capacity\n",
    "for i in range(n_warehouses):\n",
    "    print(\"Warehouse \", str(i+1))\n",
    "    print(lpSum(allocation[i][j].value() for j in range(n_customers)))"
   ]
  }
 ],
 "metadata": {
  "kernelspec": {
   "display_name": "Python 3",
   "language": "python",
   "name": "python3"
  },
  "language_info": {
   "codemirror_mode": {
    "name": "ipython",
    "version": 3
   },
   "file_extension": ".py",
   "mimetype": "text/x-python",
   "name": "python",
   "nbconvert_exporter": "python",
   "pygments_lexer": "ipython3",
   "version": "3.7.8-final"
  },
  "toc": {
   "base_numbering": 1,
   "nav_menu": {},
   "number_sections": true,
   "sideBar": true,
   "skip_h1_title": false,
   "title_cell": "Table of Contents",
   "title_sidebar": "Contents",
   "toc_cell": false,
   "toc_position": {},
   "toc_section_display": true,
   "toc_window_display": true
  }
 },
 "nbformat": 4,
 "nbformat_minor": 2
}